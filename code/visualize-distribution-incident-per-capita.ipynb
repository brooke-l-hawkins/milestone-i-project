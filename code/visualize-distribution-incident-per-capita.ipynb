{
 "cells": [
  {
   "cell_type": "markdown",
   "metadata": {},
   "source": [
    "# Import and setup"
   ]
  },
  {
   "cell_type": "code",
   "execution_count": 1,
   "metadata": {},
   "outputs": [],
   "source": [
    "import pandas as pd\n",
    "import matplotlib.pyplot as plt"
   ]
  },
  {
   "cell_type": "code",
   "execution_count": 5,
   "metadata": {},
   "outputs": [],
   "source": [
    "# laod data\n",
    "df = pd.read_csv('../data/derived/combined_data_by_year.csv', index_col=0)"
   ]
  },
  {
   "cell_type": "code",
   "execution_count": 6,
   "metadata": {},
   "outputs": [],
   "source": [
    "# add incidents per capita column\n",
    "df['incidents_per_capita'] = df['incident_ct_total'] / df['population']"
   ]
  },
  {
   "cell_type": "code",
   "execution_count": 7,
   "metadata": {},
   "outputs": [
    {
     "data": {
      "text/html": [
       "<div>\n",
       "<style scoped>\n",
       "    .dataframe tbody tr th:only-of-type {\n",
       "        vertical-align: middle;\n",
       "    }\n",
       "\n",
       "    .dataframe tbody tr th {\n",
       "        vertical-align: top;\n",
       "    }\n",
       "\n",
       "    .dataframe thead th {\n",
       "        text-align: right;\n",
       "    }\n",
       "</style>\n",
       "<table border=\"1\" class=\"dataframe\">\n",
       "  <thead>\n",
       "    <tr style=\"text-align: right;\">\n",
       "      <th></th>\n",
       "      <th>year</th>\n",
       "      <th>country_id</th>\n",
       "      <th>country_txt_wb</th>\n",
       "      <th>country_txt_gtd</th>\n",
       "      <th>country_code</th>\n",
       "      <th>region</th>\n",
       "      <th>region_txt</th>\n",
       "      <th>arrivals</th>\n",
       "      <th>population</th>\n",
       "      <th>tourism_rank_2012</th>\n",
       "      <th>...</th>\n",
       "      <th>nkillus_total</th>\n",
       "      <th>nkillte_total</th>\n",
       "      <th>nwound_total</th>\n",
       "      <th>nwoundus_total</th>\n",
       "      <th>nwoundte_total</th>\n",
       "      <th>nvictim_total</th>\n",
       "      <th>nvictimus_total</th>\n",
       "      <th>nvictimte_total</th>\n",
       "      <th>incident_ct_total</th>\n",
       "      <th>incidents_per_capita</th>\n",
       "    </tr>\n",
       "  </thead>\n",
       "  <tbody>\n",
       "    <tr>\n",
       "      <th>0</th>\n",
       "      <td>2012</td>\n",
       "      <td>5</td>\n",
       "      <td>Albania</td>\n",
       "      <td>NaN</td>\n",
       "      <td>ALB</td>\n",
       "      <td>NaN</td>\n",
       "      <td>NaN</td>\n",
       "      <td>3156000</td>\n",
       "      <td>2900401</td>\n",
       "      <td>57</td>\n",
       "      <td>...</td>\n",
       "      <td>0.0</td>\n",
       "      <td>0.0</td>\n",
       "      <td>0.0</td>\n",
       "      <td>0.0</td>\n",
       "      <td>0.0</td>\n",
       "      <td>0.0</td>\n",
       "      <td>0.0</td>\n",
       "      <td>0.0</td>\n",
       "      <td>0</td>\n",
       "      <td>0.000000e+00</td>\n",
       "    </tr>\n",
       "    <tr>\n",
       "      <th>1</th>\n",
       "      <td>2012</td>\n",
       "      <td>6</td>\n",
       "      <td>Algeria</td>\n",
       "      <td>Algeria</td>\n",
       "      <td>DZA</td>\n",
       "      <td>10.0</td>\n",
       "      <td>Middle East &amp; North Africa</td>\n",
       "      <td>2634000</td>\n",
       "      <td>37383887</td>\n",
       "      <td>65</td>\n",
       "      <td>...</td>\n",
       "      <td>0.0</td>\n",
       "      <td>2.0</td>\n",
       "      <td>76.0</td>\n",
       "      <td>0.0</td>\n",
       "      <td>0.0</td>\n",
       "      <td>101.0</td>\n",
       "      <td>0.0</td>\n",
       "      <td>2.0</td>\n",
       "      <td>27</td>\n",
       "      <td>7.222363e-07</td>\n",
       "    </tr>\n",
       "    <tr>\n",
       "      <th>2</th>\n",
       "      <td>2012</td>\n",
       "      <td>7</td>\n",
       "      <td>Andorra</td>\n",
       "      <td>NaN</td>\n",
       "      <td>AND</td>\n",
       "      <td>NaN</td>\n",
       "      <td>NaN</td>\n",
       "      <td>2238000</td>\n",
       "      <td>82427</td>\n",
       "      <td>73</td>\n",
       "      <td>...</td>\n",
       "      <td>0.0</td>\n",
       "      <td>0.0</td>\n",
       "      <td>0.0</td>\n",
       "      <td>0.0</td>\n",
       "      <td>0.0</td>\n",
       "      <td>0.0</td>\n",
       "      <td>0.0</td>\n",
       "      <td>0.0</td>\n",
       "      <td>0</td>\n",
       "      <td>0.000000e+00</td>\n",
       "    </tr>\n",
       "    <tr>\n",
       "      <th>3</th>\n",
       "      <td>2012</td>\n",
       "      <td>8</td>\n",
       "      <td>Angola</td>\n",
       "      <td>NaN</td>\n",
       "      <td>AGO</td>\n",
       "      <td>NaN</td>\n",
       "      <td>NaN</td>\n",
       "      <td>528000</td>\n",
       "      <td>25107931</td>\n",
       "      <td>113</td>\n",
       "      <td>...</td>\n",
       "      <td>0.0</td>\n",
       "      <td>0.0</td>\n",
       "      <td>0.0</td>\n",
       "      <td>0.0</td>\n",
       "      <td>0.0</td>\n",
       "      <td>0.0</td>\n",
       "      <td>0.0</td>\n",
       "      <td>0.0</td>\n",
       "      <td>0</td>\n",
       "      <td>0.000000e+00</td>\n",
       "    </tr>\n",
       "    <tr>\n",
       "      <th>4</th>\n",
       "      <td>2012</td>\n",
       "      <td>10</td>\n",
       "      <td>Antigua and Barbuda</td>\n",
       "      <td>NaN</td>\n",
       "      <td>ATG</td>\n",
       "      <td>NaN</td>\n",
       "      <td>NaN</td>\n",
       "      <td>247000</td>\n",
       "      <td>90409</td>\n",
       "      <td>127</td>\n",
       "      <td>...</td>\n",
       "      <td>0.0</td>\n",
       "      <td>0.0</td>\n",
       "      <td>0.0</td>\n",
       "      <td>0.0</td>\n",
       "      <td>0.0</td>\n",
       "      <td>0.0</td>\n",
       "      <td>0.0</td>\n",
       "      <td>0.0</td>\n",
       "      <td>0</td>\n",
       "      <td>0.000000e+00</td>\n",
       "    </tr>\n",
       "  </tbody>\n",
       "</table>\n",
       "<p>5 rows × 23 columns</p>\n",
       "</div>"
      ],
      "text/plain": [
       "   year  country_id       country_txt_wb country_txt_gtd country_code  region  \\\n",
       "0  2012           5              Albania             NaN          ALB     NaN   \n",
       "1  2012           6              Algeria         Algeria          DZA    10.0   \n",
       "2  2012           7              Andorra             NaN          AND     NaN   \n",
       "3  2012           8               Angola             NaN          AGO     NaN   \n",
       "4  2012          10  Antigua and Barbuda             NaN          ATG     NaN   \n",
       "\n",
       "                   region_txt  arrivals  population  tourism_rank_2012  ...  \\\n",
       "0                         NaN   3156000     2900401                 57  ...   \n",
       "1  Middle East & North Africa   2634000    37383887                 65  ...   \n",
       "2                         NaN   2238000       82427                 73  ...   \n",
       "3                         NaN    528000    25107931                113  ...   \n",
       "4                         NaN    247000       90409                127  ...   \n",
       "\n",
       "  nkillus_total  nkillte_total  nwound_total  nwoundus_total  nwoundte_total  \\\n",
       "0           0.0            0.0           0.0             0.0             0.0   \n",
       "1           0.0            2.0          76.0             0.0             0.0   \n",
       "2           0.0            0.0           0.0             0.0             0.0   \n",
       "3           0.0            0.0           0.0             0.0             0.0   \n",
       "4           0.0            0.0           0.0             0.0             0.0   \n",
       "\n",
       "   nvictim_total  nvictimus_total  nvictimte_total  incident_ct_total  \\\n",
       "0            0.0              0.0              0.0                  0   \n",
       "1          101.0              0.0              2.0                 27   \n",
       "2            0.0              0.0              0.0                  0   \n",
       "3            0.0              0.0              0.0                  0   \n",
       "4            0.0              0.0              0.0                  0   \n",
       "\n",
       "   incidents_per_capita  \n",
       "0          0.000000e+00  \n",
       "1          7.222363e-07  \n",
       "2          0.000000e+00  \n",
       "3          0.000000e+00  \n",
       "4          0.000000e+00  \n",
       "\n",
       "[5 rows x 23 columns]"
      ]
     },
     "execution_count": 7,
     "metadata": {},
     "output_type": "execute_result"
    }
   ],
   "source": [
    "# examine dataframe\n",
    "df.head()"
   ]
  },
  {
   "cell_type": "markdown",
   "metadata": {},
   "source": [
    "# Exploratory plotting"
   ]
  },
  {
   "cell_type": "markdown",
   "metadata": {},
   "source": [
    "Before I create the plot we mocked up, I want to get an idea for the distribution of incidents, populations, and incidents per capita for all countries and all years."
   ]
  },
  {
   "cell_type": "code",
   "execution_count": 12,
   "metadata": {},
   "outputs": [],
   "source": [
    "# define columns of interest\n",
    "columns_of_interest = ['incident_ct_total', 'population', 'incidents_per_capita']"
   ]
  },
  {
   "cell_type": "code",
   "execution_count": 13,
   "metadata": {},
   "outputs": [
    {
     "data": {
      "text/html": [
       "<div>\n",
       "<style scoped>\n",
       "    .dataframe tbody tr th:only-of-type {\n",
       "        vertical-align: middle;\n",
       "    }\n",
       "\n",
       "    .dataframe tbody tr th {\n",
       "        vertical-align: top;\n",
       "    }\n",
       "\n",
       "    .dataframe thead th {\n",
       "        text-align: right;\n",
       "    }\n",
       "</style>\n",
       "<table border=\"1\" class=\"dataframe\">\n",
       "  <thead>\n",
       "    <tr style=\"text-align: right;\">\n",
       "      <th></th>\n",
       "      <th>incident_ct_total</th>\n",
       "      <th>population</th>\n",
       "      <th>incidents_per_capita</th>\n",
       "    </tr>\n",
       "  </thead>\n",
       "  <tbody>\n",
       "    <tr>\n",
       "      <th>count</th>\n",
       "      <td>1078.000000</td>\n",
       "      <td>1.078000e+03</td>\n",
       "      <td>1.078000e+03</td>\n",
       "    </tr>\n",
       "    <tr>\n",
       "      <th>mean</th>\n",
       "      <td>15.210575</td>\n",
       "      <td>4.056657e+07</td>\n",
       "      <td>6.011824e-07</td>\n",
       "    </tr>\n",
       "    <tr>\n",
       "      <th>std</th>\n",
       "      <td>59.751118</td>\n",
       "      <td>1.555498e+08</td>\n",
       "      <td>2.662523e-06</td>\n",
       "    </tr>\n",
       "    <tr>\n",
       "      <th>min</th>\n",
       "      <td>0.000000</td>\n",
       "      <td>1.073900e+04</td>\n",
       "      <td>0.000000e+00</td>\n",
       "    </tr>\n",
       "    <tr>\n",
       "      <th>25%</th>\n",
       "      <td>0.000000</td>\n",
       "      <td>2.029969e+06</td>\n",
       "      <td>0.000000e+00</td>\n",
       "    </tr>\n",
       "    <tr>\n",
       "      <th>50%</th>\n",
       "      <td>0.000000</td>\n",
       "      <td>7.364150e+06</td>\n",
       "      <td>0.000000e+00</td>\n",
       "    </tr>\n",
       "    <tr>\n",
       "      <th>75%</th>\n",
       "      <td>4.000000</td>\n",
       "      <td>2.620072e+07</td>\n",
       "      <td>2.339494e-07</td>\n",
       "    </tr>\n",
       "    <tr>\n",
       "      <th>max</th>\n",
       "      <td>671.000000</td>\n",
       "      <td>1.392730e+09</td>\n",
       "      <td>5.632613e-05</td>\n",
       "    </tr>\n",
       "  </tbody>\n",
       "</table>\n",
       "</div>"
      ],
      "text/plain": [
       "       incident_ct_total    population  incidents_per_capita\n",
       "count        1078.000000  1.078000e+03          1.078000e+03\n",
       "mean           15.210575  4.056657e+07          6.011824e-07\n",
       "std            59.751118  1.555498e+08          2.662523e-06\n",
       "min             0.000000  1.073900e+04          0.000000e+00\n",
       "25%             0.000000  2.029969e+06          0.000000e+00\n",
       "50%             0.000000  7.364150e+06          0.000000e+00\n",
       "75%             4.000000  2.620072e+07          2.339494e-07\n",
       "max           671.000000  1.392730e+09          5.632613e-05"
      ]
     },
     "execution_count": 13,
     "metadata": {},
     "output_type": "execute_result"
    }
   ],
   "source": [
    "# describe columns of interest\n",
    "df[columns_of_interest].describe()"
   ]
  },
  {
   "cell_type": "markdown",
   "metadata": {},
   "source": [
    "All variables have 1078 values.\n",
    "\n",
    "The number of incidents range from 0 to 671. Most values are 0. The median is 0, the mean is 15, and the standard deviation of 59.75. The distribution has many low numbers with a few extremely high numbers - it is right skewed.\n",
    "\n",
    "The populatioin ranges from 10,739 to 1,392,730,000. The median is 7,364,150, the mean is 40,566,569, and the standard deviation is 155,549,802. The distribution also has a right skew, but not as much as the number of incidents.\n",
    "\n",
    "The incidents per capita range from 0 to 0.00005. Most values are 0. This distribution is right skewed. The non-zero numbers are very small, making them difficult to interpret and discuss. We may want to adjust the scale of our plot. Perhaps we could adjust population to be in the thousands, so that this number would have the unit of \"incidents per 1000 people\" rather than \"incidents per capita\"."
   ]
  },
  {
   "cell_type": "code",
   "execution_count": 47,
   "metadata": {},
   "outputs": [],
   "source": [
    "def plot_histogram(column_name):\n",
    "    plt.hist(df[column_name], bins=30, label=column_name)\n",
    "    plt.xlabel(column_name)\n",
    "    plt.ylabel('frequency')\n",
    "    plt.show()"
   ]
  },
  {
   "cell_type": "code",
   "execution_count": 48,
   "metadata": {},
   "outputs": [
    {
     "data": {
      "image/png": "[encoded data removed]",
      "text/plain": [
       "<Figure size 432x288 with 1 Axes>"
      ]
     },
     "metadata": {
      "needs_background": "light"
     },
     "output_type": "display_data"
    }
   ],
   "source": [
    "plot_histogram('incident_ct_total')"
   ]
  },
  {
   "cell_type": "code",
   "execution_count": 42,
   "metadata": {},
   "outputs": [
    {
     "data": {
      "image/png": "[encoded data removed]",
      "text/plain": [
       "<Figure size 432x288 with 1 Axes>"
      ]
     },
     "metadata": {
      "needs_background": "light"
     },
     "output_type": "display_data"
    }
   ],
   "source": [
    "plot_histogram('population')"
   ]
  },
  {
   "cell_type": "code",
   "execution_count": 43,
   "metadata": {},
   "outputs": [
    {
     "data": {
      "image/png": "[encoded data removed]",
      "text/plain": [
       "<Figure size 432x288 with 1 Axes>"
      ]
     },
     "metadata": {
      "needs_background": "light"
     },
     "output_type": "display_data"
    }
   ],
   "source": [
    "plot_histogram('incidents_per_capita')"
   ]
  },
  {
   "cell_type": "code",
   "execution_count": null,
   "metadata": {},
   "outputs": [],
   "source": []
  }
 ],
 "metadata": {
  "kernelspec": {
   "display_name": "Python 3",
   "language": "python",
   "name": "python3"
  },
  "language_info": {
   "codemirror_mode": {
    "name": "ipython",
    "version": 3
   },
   "file_extension": ".py",
   "mimetype": "text/x-python",
   "name": "python",
   "nbconvert_exporter": "python",
   "pygments_lexer": "ipython3",
   "version": "3.7.7"
  }
 },
 "nbformat": 4,
 "nbformat_minor": 4
}
