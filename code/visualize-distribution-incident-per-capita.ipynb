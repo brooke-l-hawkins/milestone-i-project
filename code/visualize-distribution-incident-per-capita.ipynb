{
 "cells": [
  {
   "cell_type": "markdown",
   "metadata": {},
   "source": [
    "# Import and setup"
   ]
  },
  {
   "cell_type": "code",
   "execution_count": 1,
   "metadata": {},
   "outputs": [],
   "source": [
    "import pandas as pd\n",
    "import matplotlib.pyplot as plt\n",
    "import seaborn as sns"
   ]
  },
  {
   "cell_type": "code",
   "execution_count": 2,
   "metadata": {},
   "outputs": [],
   "source": [
    "# laod data\n",
    "df = pd.read_csv('../data/derived/combined_data_by_year.csv', index_col=0)"
   ]
  },
  {
   "cell_type": "code",
   "execution_count": 3,
   "metadata": {},
   "outputs": [],
   "source": [
    "# select columns for visualization\n",
    "df = df[['year', 'country_id', 'country_txt_wb', 'country_txt_gtd', 'tourism_group', 'incident_ct_total', 'population']]"
   ]
  },
  {
   "cell_type": "code",
   "execution_count": 4,
   "metadata": {},
   "outputs": [],
   "source": [
    "# add incidents per capita column\n",
    "df['incidents_per_capita'] = df['incident_ct_total'] / df['population']"
   ]
  },
  {
   "cell_type": "code",
   "execution_count": 5,
   "metadata": {},
   "outputs": [
    {
     "data": {
      "text/html": [
       "<div>\n",
       "<style scoped>\n",
       "    .dataframe tbody tr th:only-of-type {\n",
       "        vertical-align: middle;\n",
       "    }\n",
       "\n",
       "    .dataframe tbody tr th {\n",
       "        vertical-align: top;\n",
       "    }\n",
       "\n",
       "    .dataframe thead th {\n",
       "        text-align: right;\n",
       "    }\n",
       "</style>\n",
       "<table border=\"1\" class=\"dataframe\">\n",
       "  <thead>\n",
       "    <tr style=\"text-align: right;\">\n",
       "      <th></th>\n",
       "      <th>year</th>\n",
       "      <th>country_id</th>\n",
       "      <th>country_txt_wb</th>\n",
       "      <th>country_txt_gtd</th>\n",
       "      <th>tourism_group</th>\n",
       "      <th>incident_ct_total</th>\n",
       "      <th>population</th>\n",
       "      <th>incidents_per_capita</th>\n",
       "    </tr>\n",
       "  </thead>\n",
       "  <tbody>\n",
       "    <tr>\n",
       "      <th>0</th>\n",
       "      <td>2012</td>\n",
       "      <td>5</td>\n",
       "      <td>Albania</td>\n",
       "      <td>NaN</td>\n",
       "      <td>NaN</td>\n",
       "      <td>0</td>\n",
       "      <td>2900401</td>\n",
       "      <td>0.000000e+00</td>\n",
       "    </tr>\n",
       "    <tr>\n",
       "      <th>1</th>\n",
       "      <td>2012</td>\n",
       "      <td>6</td>\n",
       "      <td>Algeria</td>\n",
       "      <td>Algeria</td>\n",
       "      <td>NaN</td>\n",
       "      <td>27</td>\n",
       "      <td>37383887</td>\n",
       "      <td>7.222363e-07</td>\n",
       "    </tr>\n",
       "    <tr>\n",
       "      <th>2</th>\n",
       "      <td>2012</td>\n",
       "      <td>7</td>\n",
       "      <td>Andorra</td>\n",
       "      <td>NaN</td>\n",
       "      <td>NaN</td>\n",
       "      <td>0</td>\n",
       "      <td>82427</td>\n",
       "      <td>0.000000e+00</td>\n",
       "    </tr>\n",
       "    <tr>\n",
       "      <th>3</th>\n",
       "      <td>2012</td>\n",
       "      <td>8</td>\n",
       "      <td>Angola</td>\n",
       "      <td>NaN</td>\n",
       "      <td>NaN</td>\n",
       "      <td>0</td>\n",
       "      <td>25107931</td>\n",
       "      <td>0.000000e+00</td>\n",
       "    </tr>\n",
       "    <tr>\n",
       "      <th>4</th>\n",
       "      <td>2012</td>\n",
       "      <td>10</td>\n",
       "      <td>Antigua and Barbuda</td>\n",
       "      <td>NaN</td>\n",
       "      <td>NaN</td>\n",
       "      <td>0</td>\n",
       "      <td>90409</td>\n",
       "      <td>0.000000e+00</td>\n",
       "    </tr>\n",
       "  </tbody>\n",
       "</table>\n",
       "</div>"
      ],
      "text/plain": [
       "   year  country_id       country_txt_wb country_txt_gtd tourism_group  \\\n",
       "0  2012           5              Albania             NaN           NaN   \n",
       "1  2012           6              Algeria         Algeria           NaN   \n",
       "2  2012           7              Andorra             NaN           NaN   \n",
       "3  2012           8               Angola             NaN           NaN   \n",
       "4  2012          10  Antigua and Barbuda             NaN           NaN   \n",
       "\n",
       "   incident_ct_total  population  incidents_per_capita  \n",
       "0                  0     2900401          0.000000e+00  \n",
       "1                 27    37383887          7.222363e-07  \n",
       "2                  0       82427          0.000000e+00  \n",
       "3                  0    25107931          0.000000e+00  \n",
       "4                  0       90409          0.000000e+00  "
      ]
     },
     "execution_count": 5,
     "metadata": {},
     "output_type": "execute_result"
    }
   ],
   "source": [
    "# examine dataframe\n",
    "df.head()"
   ]
  },
  {
   "cell_type": "markdown",
   "metadata": {},
   "source": [
    "# Data exploration"
   ]
  },
  {
   "cell_type": "code",
   "execution_count": 6,
   "metadata": {},
   "outputs": [],
   "source": [
    "# find slices for all countries, and countries with high and low tourism\n",
    "all_df  = df\n",
    "high_df = df[df['tourism_group']=='high']\n",
    "low_df  = df[df['tourism_group']=='low']\n",
    "\n",
    "# define columns of interest\n",
    "columns_of_interest = ['incident_ct_total', 'population', 'incidents_per_capita']"
   ]
  },
  {
   "cell_type": "markdown",
   "metadata": {},
   "source": [
    "What are the distribution of incident count, population, and incident per capita in all countries?"
   ]
  },
  {
   "cell_type": "code",
   "execution_count": 7,
   "metadata": {},
   "outputs": [
    {
     "data": {
      "text/html": [
       "<div>\n",
       "<style scoped>\n",
       "    .dataframe tbody tr th:only-of-type {\n",
       "        vertical-align: middle;\n",
       "    }\n",
       "\n",
       "    .dataframe tbody tr th {\n",
       "        vertical-align: top;\n",
       "    }\n",
       "\n",
       "    .dataframe thead th {\n",
       "        text-align: right;\n",
       "    }\n",
       "</style>\n",
       "<table border=\"1\" class=\"dataframe\">\n",
       "  <thead>\n",
       "    <tr style=\"text-align: right;\">\n",
       "      <th></th>\n",
       "      <th>incident_ct_total</th>\n",
       "      <th>population</th>\n",
       "      <th>incidents_per_capita</th>\n",
       "    </tr>\n",
       "  </thead>\n",
       "  <tbody>\n",
       "    <tr>\n",
       "      <th>count</th>\n",
       "      <td>1078.000000</td>\n",
       "      <td>1.078000e+03</td>\n",
       "      <td>1.078000e+03</td>\n",
       "    </tr>\n",
       "    <tr>\n",
       "      <th>mean</th>\n",
       "      <td>15.210575</td>\n",
       "      <td>4.056657e+07</td>\n",
       "      <td>6.011824e-07</td>\n",
       "    </tr>\n",
       "    <tr>\n",
       "      <th>std</th>\n",
       "      <td>59.751118</td>\n",
       "      <td>1.555498e+08</td>\n",
       "      <td>2.662523e-06</td>\n",
       "    </tr>\n",
       "    <tr>\n",
       "      <th>min</th>\n",
       "      <td>0.000000</td>\n",
       "      <td>1.073900e+04</td>\n",
       "      <td>0.000000e+00</td>\n",
       "    </tr>\n",
       "    <tr>\n",
       "      <th>25%</th>\n",
       "      <td>0.000000</td>\n",
       "      <td>2.029969e+06</td>\n",
       "      <td>0.000000e+00</td>\n",
       "    </tr>\n",
       "    <tr>\n",
       "      <th>50%</th>\n",
       "      <td>0.000000</td>\n",
       "      <td>7.364150e+06</td>\n",
       "      <td>0.000000e+00</td>\n",
       "    </tr>\n",
       "    <tr>\n",
       "      <th>75%</th>\n",
       "      <td>4.000000</td>\n",
       "      <td>2.620072e+07</td>\n",
       "      <td>2.339494e-07</td>\n",
       "    </tr>\n",
       "    <tr>\n",
       "      <th>max</th>\n",
       "      <td>671.000000</td>\n",
       "      <td>1.392730e+09</td>\n",
       "      <td>5.632613e-05</td>\n",
       "    </tr>\n",
       "  </tbody>\n",
       "</table>\n",
       "</div>"
      ],
      "text/plain": [
       "       incident_ct_total    population  incidents_per_capita\n",
       "count        1078.000000  1.078000e+03          1.078000e+03\n",
       "mean           15.210575  4.056657e+07          6.011824e-07\n",
       "std            59.751118  1.555498e+08          2.662523e-06\n",
       "min             0.000000  1.073900e+04          0.000000e+00\n",
       "25%             0.000000  2.029969e+06          0.000000e+00\n",
       "50%             0.000000  7.364150e+06          0.000000e+00\n",
       "75%             4.000000  2.620072e+07          2.339494e-07\n",
       "max           671.000000  1.392730e+09          5.632613e-05"
      ]
     },
     "execution_count": 7,
     "metadata": {},
     "output_type": "execute_result"
    }
   ],
   "source": [
    "# describe columns of interest for all countries\n",
    "all_df[columns_of_interest].describe()"
   ]
  },
  {
   "cell_type": "markdown",
   "metadata": {},
   "source": [
    "The number of incidents range from 0 to 671. Most values are 0. The median is 0, the mean is 15, and the standard deviation of 59.75. The distribution has many low numbers with a few extremely high numbers - it is right skewed.\n",
    "\n",
    "The populatioin ranges from 10,739 to 1,392,730,000. The median is 7,364,150, the mean is 40,566,569, and the standard deviation is 155,549,802. The distribution also has a right skew, but not as much as the number of incidents.\n",
    "\n",
    "The incidents per capita range from 0 to 0.00005. Most values are 0. This distribution is right skewed."
   ]
  },
  {
   "cell_type": "markdown",
   "metadata": {},
   "source": [
    "# Strip plot by tourism group"
   ]
  },
  {
   "cell_type": "markdown",
   "metadata": {},
   "source": [
    "### Country groupings: All, High, Low"
   ]
  },
  {
   "cell_type": "code",
   "execution_count": 10,
   "metadata": {},
   "outputs": [
    {
     "data": {
      "image/png": "[encoded data removed]",
      "text/plain": [
       "<Figure size 1080x360 with 3 Axes>"
      ]
     },
     "metadata": {},
     "output_type": "display_data"
    }
   ],
   "source": [
    "# find sample sizes\n",
    "all_df_n, high_df_n, low_df_n = ['n = ' + str(len(i)) for i in [all_df, high_df, low_df]]  \n",
    "\n",
    "# set style\n",
    "sns.set_style('whitegrid')\n",
    "\n",
    "# create figure\n",
    "fig, axs = plt.subplots(1, 3, sharex=True, sharey=True, figsize=(15,5))\n",
    "fig.suptitle('Terrorist Incidents Per Capita\\n', fontsize=12, fontweight =\"bold\")\n",
    "\n",
    "# create strip plots\n",
    "sns.stripplot(y=all_df['incidents_per_capita'],  ax=axs[0])\n",
    "sns.stripplot(y=high_df['incidents_per_capita'], ax=axs[1])\n",
    "sns.stripplot(y=low_df['incidents_per_capita'],  ax=axs[2])\n",
    "\n",
    "# set subplot titles and axis labels\n",
    "axs[0].set(ylabel='Count', xlabel=all_df_n,  title='All')\n",
    "axs[1].set(ylabel=None,    xlabel=high_df_n, title='High Tourism')\n",
    "axs[2].set(ylabel=None,    xlabel=low_df_n,  title='Low Tourism')\n",
    "\n",
    "# place subplots closer together\n",
    "fig.subplots_adjust(wspace=.05, hspace=0)"
   ]
  },
  {
   "cell_type": "markdown",
   "metadata": {},
   "source": [
    "### Country groupings: High, Low"
   ]
  },
  {
   "cell_type": "code",
   "execution_count": 11,
   "metadata": {},
   "outputs": [
    {
     "data": {
      "image/png": "[encoded data removed]",
      "text/plain": [
       "<Figure size 1080x360 with 2 Axes>"
      ]
     },
     "metadata": {},
     "output_type": "display_data"
    }
   ],
   "source": [
    "# find sample sizes\n",
    "all_df_n, high_df_n, low_df_n = ['n = ' + str(len(i)) for i in [all_df, high_df, low_df]]  \n",
    "\n",
    "# set style\n",
    "sns.set_style('whitegrid')\n",
    "\n",
    "# create figure\n",
    "fig, axs = plt.subplots(1, 2, sharex=True, sharey=True, figsize=(15,5))\n",
    "fig.suptitle('Terrorist Incidents Per Capita\\n', fontsize=12, fontweight =\"bold\")\n",
    "\n",
    "# create strip plots\n",
    "sns.stripplot(y=high_df['incidents_per_capita'], ax=axs[0])\n",
    "sns.stripplot(y=low_df['incidents_per_capita'],  ax=axs[1])\n",
    "\n",
    "# set subplot titles and axis labels\n",
    "axs[0].set(ylabel=None,    xlabel=high_df_n, title='High Tourism')\n",
    "axs[1].set(ylabel=None,    xlabel=low_df_n,  title='Low Tourism')\n",
    "\n",
    "# place subplots closer together\n",
    "fig.subplots_adjust(wspace=.05, hspace=0)"
   ]
  },
  {
   "cell_type": "markdown",
   "metadata": {},
   "source": [
    "# Interpretation"
   ]
  },
  {
   "cell_type": "markdown",
   "metadata": {},
   "source": [
    "How many countries and years have an incident throughout the dataset?"
   ]
  },
  {
   "cell_type": "code",
   "execution_count": 20,
   "metadata": {},
   "outputs": [
    {
     "data": {
      "text/plain": [
       "480"
      ]
     },
     "execution_count": 20,
     "metadata": {},
     "output_type": "execute_result"
    }
   ],
   "source": [
    "sum(all_df['incident_ct_total']>0)"
   ]
  },
  {
   "cell_type": "markdown",
   "metadata": {},
   "source": [
    "How many countries and years have no incident throughout the dataset?"
   ]
  },
  {
   "cell_type": "code",
   "execution_count": 23,
   "metadata": {
    "scrolled": true
   },
   "outputs": [
    {
     "data": {
      "text/plain": [
       "598"
      ]
     },
     "execution_count": 23,
     "metadata": {},
     "output_type": "execute_result"
    }
   ],
   "source": [
    "sum(all_df['incident_ct_total']==0)"
   ]
  },
  {
   "cell_type": "markdown",
   "metadata": {},
   "source": [
    "How many countries and years have an incident throughout the high tourism dataset?"
   ]
  },
  {
   "cell_type": "code",
   "execution_count": 21,
   "metadata": {},
   "outputs": [
    {
     "data": {
      "text/plain": [
       "67"
      ]
     },
     "execution_count": 21,
     "metadata": {},
     "output_type": "execute_result"
    }
   ],
   "source": [
    "sum(high_df['incident_ct_total']>0)"
   ]
  },
  {
   "cell_type": "markdown",
   "metadata": {},
   "source": [
    "How many countries and years have no incident throughout the high tourism dataset?"
   ]
  },
  {
   "cell_type": "code",
   "execution_count": 24,
   "metadata": {},
   "outputs": [
    {
     "data": {
      "text/plain": [
       "3"
      ]
     },
     "execution_count": 24,
     "metadata": {},
     "output_type": "execute_result"
    }
   ],
   "source": [
    "sum(high_df['incident_ct_total']==0)"
   ]
  },
  {
   "cell_type": "markdown",
   "metadata": {},
   "source": [
    "How many countries and years have an incident throughout the low tourism dataset?"
   ]
  },
  {
   "cell_type": "code",
   "execution_count": 22,
   "metadata": {},
   "outputs": [
    {
     "data": {
      "text/plain": [
       "10"
      ]
     },
     "execution_count": 22,
     "metadata": {},
     "output_type": "execute_result"
    }
   ],
   "source": [
    "sum(low_df['incident_ct_total']>0)"
   ]
  },
  {
   "cell_type": "markdown",
   "metadata": {},
   "source": [
    "What are the countries and years that do have an incident?"
   ]
  },
  {
   "cell_type": "code",
   "execution_count": 27,
   "metadata": {},
   "outputs": [
    {
     "data": {
      "text/html": [
       "<div>\n",
       "<style scoped>\n",
       "    .dataframe tbody tr th:only-of-type {\n",
       "        vertical-align: middle;\n",
       "    }\n",
       "\n",
       "    .dataframe tbody tr th {\n",
       "        vertical-align: top;\n",
       "    }\n",
       "\n",
       "    .dataframe thead th {\n",
       "        text-align: right;\n",
       "    }\n",
       "</style>\n",
       "<table border=\"1\" class=\"dataframe\">\n",
       "  <thead>\n",
       "    <tr style=\"text-align: right;\">\n",
       "      <th></th>\n",
       "      <th>year</th>\n",
       "      <th>country_id</th>\n",
       "      <th>country_txt_wb</th>\n",
       "      <th>country_txt_gtd</th>\n",
       "      <th>tourism_group</th>\n",
       "      <th>incident_ct_total</th>\n",
       "      <th>population</th>\n",
       "      <th>incidents_per_capita</th>\n",
       "    </tr>\n",
       "  </thead>\n",
       "  <tbody>\n",
       "    <tr>\n",
       "      <th>86</th>\n",
       "      <td>2012</td>\n",
       "      <td>123</td>\n",
       "      <td>Mali</td>\n",
       "      <td>Mali</td>\n",
       "      <td>low</td>\n",
       "      <td>17</td>\n",
       "      <td>15979499</td>\n",
       "      <td>1.063863e-06</td>\n",
       "    </tr>\n",
       "    <tr>\n",
       "      <th>240</th>\n",
       "      <td>2013</td>\n",
       "      <td>123</td>\n",
       "      <td>Mali</td>\n",
       "      <td>Mali</td>\n",
       "      <td>low</td>\n",
       "      <td>28</td>\n",
       "      <td>16449864</td>\n",
       "      <td>1.702142e-06</td>\n",
       "    </tr>\n",
       "    <tr>\n",
       "      <th>394</th>\n",
       "      <td>2014</td>\n",
       "      <td>123</td>\n",
       "      <td>Mali</td>\n",
       "      <td>Mali</td>\n",
       "      <td>low</td>\n",
       "      <td>55</td>\n",
       "      <td>16934220</td>\n",
       "      <td>3.247861e-06</td>\n",
       "    </tr>\n",
       "    <tr>\n",
       "      <th>548</th>\n",
       "      <td>2015</td>\n",
       "      <td>123</td>\n",
       "      <td>Mali</td>\n",
       "      <td>Mali</td>\n",
       "      <td>low</td>\n",
       "      <td>82</td>\n",
       "      <td>17438778</td>\n",
       "      <td>4.702164e-06</td>\n",
       "    </tr>\n",
       "    <tr>\n",
       "      <th>702</th>\n",
       "      <td>2016</td>\n",
       "      <td>123</td>\n",
       "      <td>Mali</td>\n",
       "      <td>Mali</td>\n",
       "      <td>low</td>\n",
       "      <td>53</td>\n",
       "      <td>17965429</td>\n",
       "      <td>2.950110e-06</td>\n",
       "    </tr>\n",
       "    <tr>\n",
       "      <th>733</th>\n",
       "      <td>2016</td>\n",
       "      <td>177</td>\n",
       "      <td>Sierra Leone</td>\n",
       "      <td>Sierra Leone</td>\n",
       "      <td>low</td>\n",
       "      <td>1</td>\n",
       "      <td>7328838</td>\n",
       "      <td>1.364473e-07</td>\n",
       "    </tr>\n",
       "    <tr>\n",
       "      <th>856</th>\n",
       "      <td>2017</td>\n",
       "      <td>123</td>\n",
       "      <td>Mali</td>\n",
       "      <td>Mali</td>\n",
       "      <td>low</td>\n",
       "      <td>65</td>\n",
       "      <td>18512394</td>\n",
       "      <td>3.511161e-06</td>\n",
       "    </tr>\n",
       "    <tr>\n",
       "      <th>887</th>\n",
       "      <td>2017</td>\n",
       "      <td>177</td>\n",
       "      <td>Sierra Leone</td>\n",
       "      <td>Sierra Leone</td>\n",
       "      <td>low</td>\n",
       "      <td>2</td>\n",
       "      <td>7488431</td>\n",
       "      <td>2.670786e-07</td>\n",
       "    </tr>\n",
       "    <tr>\n",
       "      <th>954</th>\n",
       "      <td>2018</td>\n",
       "      <td>46</td>\n",
       "      <td>Comoros</td>\n",
       "      <td>Comoros</td>\n",
       "      <td>low</td>\n",
       "      <td>1</td>\n",
       "      <td>832322</td>\n",
       "      <td>1.201458e-06</td>\n",
       "    </tr>\n",
       "    <tr>\n",
       "      <th>1010</th>\n",
       "      <td>2018</td>\n",
       "      <td>123</td>\n",
       "      <td>Mali</td>\n",
       "      <td>Mali</td>\n",
       "      <td>low</td>\n",
       "      <td>116</td>\n",
       "      <td>19077690</td>\n",
       "      <td>6.080401e-06</td>\n",
       "    </tr>\n",
       "  </tbody>\n",
       "</table>\n",
       "</div>"
      ],
      "text/plain": [
       "      year  country_id country_txt_wb country_txt_gtd tourism_group  \\\n",
       "86    2012         123           Mali            Mali           low   \n",
       "240   2013         123           Mali            Mali           low   \n",
       "394   2014         123           Mali            Mali           low   \n",
       "548   2015         123           Mali            Mali           low   \n",
       "702   2016         123           Mali            Mali           low   \n",
       "733   2016         177   Sierra Leone    Sierra Leone           low   \n",
       "856   2017         123           Mali            Mali           low   \n",
       "887   2017         177   Sierra Leone    Sierra Leone           low   \n",
       "954   2018          46        Comoros         Comoros           low   \n",
       "1010  2018         123           Mali            Mali           low   \n",
       "\n",
       "      incident_ct_total  population  incidents_per_capita  \n",
       "86                   17    15979499          1.063863e-06  \n",
       "240                  28    16449864          1.702142e-06  \n",
       "394                  55    16934220          3.247861e-06  \n",
       "548                  82    17438778          4.702164e-06  \n",
       "702                  53    17965429          2.950110e-06  \n",
       "733                   1     7328838          1.364473e-07  \n",
       "856                  65    18512394          3.511161e-06  \n",
       "887                   2     7488431          2.670786e-07  \n",
       "954                   1      832322          1.201458e-06  \n",
       "1010                116    19077690          6.080401e-06  "
      ]
     },
     "execution_count": 27,
     "metadata": {},
     "output_type": "execute_result"
    }
   ],
   "source": [
    "low_df[low_df['incident_ct_total']>0]"
   ]
  },
  {
   "cell_type": "markdown",
   "metadata": {},
   "source": [
    "How many countries and years have no incident throughout the high tourism dataset?"
   ]
  },
  {
   "cell_type": "code",
   "execution_count": 26,
   "metadata": {},
   "outputs": [
    {
     "data": {
      "text/plain": [
       "60"
      ]
     },
     "execution_count": 26,
     "metadata": {},
     "output_type": "execute_result"
    }
   ],
   "source": [
    "sum(low_df['incident_ct_total']==0)"
   ]
  },
  {
   "cell_type": "markdown",
   "metadata": {},
   "source": [
    "**Key takeaways:**\n",
    "\n",
    "* In many countries and many years, there are no terrorism incidents (598 have none, 480 have incident(s)).\n",
    "* In high tourism countries in most years, there are terrorist incidents (67 have incident(s), 10 have none).\n",
    "* In low tourism countries in most years, there are no terrorism incidents (60 have none, 10 have incident(s)).\n",
    "* The ten records with incidents in low tourism countries have higher incidents per capita than most of the records in high tourism countries. This could indicate the the few terrorism incidents in low tourism countries are more noticeable relative to the country's population - there are more incidents for a country with that size than in the high tourism grouping."
   ]
  },
  {
   "cell_type": "markdown",
   "metadata": {},
   "source": [
    "TODO\n",
    "* Add: visualize median, 25/75 percentile"
   ]
  }
 ],
 "metadata": {
  "kernelspec": {
   "display_name": "Python 3",
   "language": "python",
   "name": "python3"
  },
  "language_info": {
   "codemirror_mode": {
    "name": "ipython",
    "version": 3
   },
   "file_extension": ".py",
   "mimetype": "text/x-python",
   "name": "python",
   "nbconvert_exporter": "python",
   "pygments_lexer": "ipython3",
   "version": "3.7.7"
  }
 },
 "nbformat": 4,
 "nbformat_minor": 4
}
