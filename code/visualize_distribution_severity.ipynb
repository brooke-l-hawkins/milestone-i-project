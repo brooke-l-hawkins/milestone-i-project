{
 "cells": [
  {
   "cell_type": "markdown",
   "metadata": {},
   "source": [
    "# Import and setup"
   ]
  },
  {
   "cell_type": "code",
   "execution_count": 1,
   "metadata": {},
   "outputs": [],
   "source": [
    "import pandas as pd\n",
    "import matplotlib.pyplot as plt\n",
    "import seaborn as sns"
   ]
  },
  {
   "cell_type": "code",
   "execution_count": 2,
   "metadata": {},
   "outputs": [],
   "source": [
    "# laod data\n",
    "df = pd.read_csv('../data/derived/combined_data_by_incident.csv', index_col=0)"
   ]
  },
  {
   "cell_type": "code",
   "execution_count": 3,
   "metadata": {},
   "outputs": [],
   "source": [
    "# select columns for visualization\n",
    "df = df[['year', 'country_id', 'country_txt_wb', 'country_txt_gtd', 'tourism_group', 'nvictim', 'nkill', 'nwound']]"
   ]
  },
  {
   "cell_type": "code",
   "execution_count": 4,
   "metadata": {},
   "outputs": [
    {
     "data": {
      "text/html": [
       "<div>\n",
       "<style scoped>\n",
       "    .dataframe tbody tr th:only-of-type {\n",
       "        vertical-align: middle;\n",
       "    }\n",
       "\n",
       "    .dataframe tbody tr th {\n",
       "        vertical-align: top;\n",
       "    }\n",
       "\n",
       "    .dataframe thead th {\n",
       "        text-align: right;\n",
       "    }\n",
       "</style>\n",
       "<table border=\"1\" class=\"dataframe\">\n",
       "  <thead>\n",
       "    <tr style=\"text-align: right;\">\n",
       "      <th></th>\n",
       "      <th>year</th>\n",
       "      <th>country_id</th>\n",
       "      <th>country_txt_wb</th>\n",
       "      <th>country_txt_gtd</th>\n",
       "      <th>tourism_group</th>\n",
       "      <th>nvictim</th>\n",
       "      <th>nkill</th>\n",
       "      <th>nwound</th>\n",
       "    </tr>\n",
       "  </thead>\n",
       "  <tbody>\n",
       "    <tr>\n",
       "      <th>0</th>\n",
       "      <td>2012</td>\n",
       "      <td>92</td>\n",
       "      <td>India</td>\n",
       "      <td>India</td>\n",
       "      <td>NaN</td>\n",
       "      <td>8.0</td>\n",
       "      <td>2.0</td>\n",
       "      <td>6.0</td>\n",
       "    </tr>\n",
       "    <tr>\n",
       "      <th>1</th>\n",
       "      <td>2012</td>\n",
       "      <td>123</td>\n",
       "      <td>Mali</td>\n",
       "      <td>Mali</td>\n",
       "      <td>low</td>\n",
       "      <td>36.0</td>\n",
       "      <td>36.0</td>\n",
       "      <td>0.0</td>\n",
       "    </tr>\n",
       "    <tr>\n",
       "      <th>2</th>\n",
       "      <td>2012</td>\n",
       "      <td>123</td>\n",
       "      <td>Mali</td>\n",
       "      <td>Mali</td>\n",
       "      <td>low</td>\n",
       "      <td>11.0</td>\n",
       "      <td>11.0</td>\n",
       "      <td>0.0</td>\n",
       "    </tr>\n",
       "    <tr>\n",
       "      <th>3</th>\n",
       "      <td>2012</td>\n",
       "      <td>603</td>\n",
       "      <td>United Kingdom</td>\n",
       "      <td>United Kingdom</td>\n",
       "      <td>high</td>\n",
       "      <td>0.0</td>\n",
       "      <td>0.0</td>\n",
       "      <td>0.0</td>\n",
       "    </tr>\n",
       "    <tr>\n",
       "      <th>4</th>\n",
       "      <td>2012</td>\n",
       "      <td>92</td>\n",
       "      <td>India</td>\n",
       "      <td>India</td>\n",
       "      <td>NaN</td>\n",
       "      <td>13.0</td>\n",
       "      <td>13.0</td>\n",
       "      <td>0.0</td>\n",
       "    </tr>\n",
       "  </tbody>\n",
       "</table>\n",
       "</div>"
      ],
      "text/plain": [
       "   year  country_id  country_txt_wb country_txt_gtd tourism_group  nvictim  \\\n",
       "0  2012          92           India           India           NaN      8.0   \n",
       "1  2012         123            Mali            Mali           low     36.0   \n",
       "2  2012         123            Mali            Mali           low     11.0   \n",
       "3  2012         603  United Kingdom  United Kingdom          high      0.0   \n",
       "4  2012          92           India           India           NaN     13.0   \n",
       "\n",
       "   nkill  nwound  \n",
       "0    2.0     6.0  \n",
       "1   36.0     0.0  \n",
       "2   11.0     0.0  \n",
       "3    0.0     0.0  \n",
       "4   13.0     0.0  "
      ]
     },
     "execution_count": 4,
     "metadata": {},
     "output_type": "execute_result"
    }
   ],
   "source": [
    "# examine dataframe\n",
    "df.head()"
   ]
  },
  {
   "cell_type": "markdown",
   "metadata": {},
   "source": [
    "# Data exploration"
   ]
  },
  {
   "cell_type": "code",
   "execution_count": 5,
   "metadata": {},
   "outputs": [],
   "source": [
    "# define columns of interest\n",
    "columns_of_interest = ['nvictim', 'nkill', 'nwound']"
   ]
  },
  {
   "cell_type": "markdown",
   "metadata": {},
   "source": [
    "What is the distribution of number of victims, killed and wounded across incidents?"
   ]
  },
  {
   "cell_type": "code",
   "execution_count": 6,
   "metadata": {},
   "outputs": [
    {
     "data": {
      "text/html": [
       "<div>\n",
       "<style scoped>\n",
       "    .dataframe tbody tr th:only-of-type {\n",
       "        vertical-align: middle;\n",
       "    }\n",
       "\n",
       "    .dataframe tbody tr th {\n",
       "        vertical-align: top;\n",
       "    }\n",
       "\n",
       "    .dataframe thead th {\n",
       "        text-align: right;\n",
       "    }\n",
       "</style>\n",
       "<table border=\"1\" class=\"dataframe\">\n",
       "  <thead>\n",
       "    <tr style=\"text-align: right;\">\n",
       "      <th></th>\n",
       "      <th>nvictim</th>\n",
       "      <th>nkill</th>\n",
       "      <th>nwound</th>\n",
       "    </tr>\n",
       "  </thead>\n",
       "  <tbody>\n",
       "    <tr>\n",
       "      <th>count</th>\n",
       "      <td>16995.000000</td>\n",
       "      <td>16995.000000</td>\n",
       "      <td>16995.000000</td>\n",
       "    </tr>\n",
       "    <tr>\n",
       "      <th>mean</th>\n",
       "      <td>2.916093</td>\n",
       "      <td>1.018594</td>\n",
       "      <td>1.897499</td>\n",
       "    </tr>\n",
       "    <tr>\n",
       "      <th>std</th>\n",
       "      <td>13.804926</td>\n",
       "      <td>5.757231</td>\n",
       "      <td>10.643692</td>\n",
       "    </tr>\n",
       "    <tr>\n",
       "      <th>min</th>\n",
       "      <td>0.000000</td>\n",
       "      <td>0.000000</td>\n",
       "      <td>0.000000</td>\n",
       "    </tr>\n",
       "    <tr>\n",
       "      <th>25%</th>\n",
       "      <td>0.000000</td>\n",
       "      <td>0.000000</td>\n",
       "      <td>0.000000</td>\n",
       "    </tr>\n",
       "    <tr>\n",
       "      <th>50%</th>\n",
       "      <td>1.000000</td>\n",
       "      <td>0.000000</td>\n",
       "      <td>0.000000</td>\n",
       "    </tr>\n",
       "    <tr>\n",
       "      <th>75%</th>\n",
       "      <td>2.000000</td>\n",
       "      <td>1.000000</td>\n",
       "      <td>1.000000</td>\n",
       "    </tr>\n",
       "    <tr>\n",
       "      <th>max</th>\n",
       "      <td>520.000000</td>\n",
       "      <td>311.000000</td>\n",
       "      <td>433.000000</td>\n",
       "    </tr>\n",
       "  </tbody>\n",
       "</table>\n",
       "</div>"
      ],
      "text/plain": [
       "            nvictim         nkill        nwound\n",
       "count  16995.000000  16995.000000  16995.000000\n",
       "mean       2.916093      1.018594      1.897499\n",
       "std       13.804926      5.757231     10.643692\n",
       "min        0.000000      0.000000      0.000000\n",
       "25%        0.000000      0.000000      0.000000\n",
       "50%        1.000000      0.000000      0.000000\n",
       "75%        2.000000      1.000000      1.000000\n",
       "max      520.000000    311.000000    433.000000"
      ]
     },
     "execution_count": 6,
     "metadata": {},
     "output_type": "execute_result"
    }
   ],
   "source": [
    "# describe columns of interest\n",
    "df[columns_of_interest].describe()"
   ]
  },
  {
   "cell_type": "markdown",
   "metadata": {},
   "source": [
    "All variables have 16995 values, representing 16995 incidents.\n",
    "\n",
    "All variables follow a similar right-skewed distribution pattern of having mostly 0's with some high outliers.\n",
    "\n",
    "The number of victims ranges from 0 to 520. Most values are 0. The median is 1, the mean is 2.916, and the standard deviation is 13.804. The distribution has many low numbers (thankfully) with a few high numbers - it is right skewed.\n",
    "\n",
    "The number of victims ranges from 0 to 311. Most values are 0. The median is 0, the mean is 1.018, and the standard deviation is 5.757. The distribution has many low numbers (thankfully) with a few high numbers - it is right skewed.\n",
    "\n",
    "The number of wounded ranges from 0 to 433. Most values are 0. The median is 0, the mean is 1.897, and the standard deviation is 10.643. The distribution has many low numbers (thankfully) with a few high numbers - it is right skewed."
   ]
  },
  {
   "cell_type": "markdown",
   "metadata": {},
   "source": [
    "# Strip plot by tourism group"
   ]
  },
  {
   "cell_type": "code",
   "execution_count": 7,
   "metadata": {},
   "outputs": [],
   "source": [
    "def plot_strip_plot(column_of_interest, add_box_plot=False, show_all_countries=True):\n",
    "    \n",
    "    # find slices for all countries, and countries with high and low tourism\n",
    "    all_df  = df\n",
    "    high_df = df[df['tourism_group']=='high']\n",
    "    low_df  = df[df['tourism_group']=='low']\n",
    "    \n",
    "    # find sample sizes\n",
    "    all_df_n, high_df_n, low_df_n = ['n = ' + str(len(i)) for i in [all_df, high_df, low_df]]    \n",
    "    \n",
    "    # set style\n",
    "    sns.set_style('whitegrid')\n",
    "    \n",
    "    # set number of subplots accordingly\n",
    "    subplot_n = 3 if show_all_countries else 2\n",
    "    \n",
    "    # create figure\n",
    "    fig, axs = plt.subplots(1, subplot_n, sharex=True, sharey=True, figsize=(15,5))\n",
    "    fig.subplots_adjust(wspace=.05, hspace=0)\n",
    "\n",
    "    # create strip plots\n",
    "    if show_all_countries: sns.stripplot(y=column_of_interest, data=all_df,  ax=axs[0])\n",
    "    sns.stripplot(y=column_of_interest, data=high_df, ax=axs[subplot_n-2])\n",
    "    sns.stripplot(y=column_of_interest, data=low_df,  ax=axs[subplot_n-1])\n",
    "    \n",
    "    # optionally add box plots\n",
    "    if add_box_plot:\n",
    "        if show_all_countries: sns.boxplot(y=column_of_interest, data=all_df,  ax=axs[0], zorder=10, whis=1, color='white', showfliers=False)\n",
    "        sns.boxplot(y=column_of_interest, data=high_df, ax=axs[subplot_n-2], zorder=10, whis=1, color='white', showfliers=False)\n",
    "        sns.boxplot(y=column_of_interest, data=low_df,  ax=axs[subplot_n-1], zorder=10, whis=1, color='white', showfliers=False)\n",
    "\n",
    "    # add title\n",
    "    if column_of_interest == 'nvictim':\n",
    "        plot_title = 'Number of Victims per Incident'\n",
    "    elif column_of_interest == 'nkill':\n",
    "        plot_title = 'Number of Fatalities per Incident'\n",
    "    elif column_of_interest == 'nwound':\n",
    "        plot_title = 'Number of Non-Fatal Wounded per Incident'\n",
    "    else:\n",
    "        plot_title = column_of_interest\n",
    "    fig.suptitle(plot_title, fontsize=12, fontweight =\"bold\")\n",
    "    \n",
    "    # add subplot titles\n",
    "    if show_all_countries: axs[0].set(ylabel='Count', xlabel = all_df_n,  title='All')\n",
    "    axs[subplot_n-2].set(ylabel=None,    xlabel = high_df_n, title='High Tourism')\n",
    "    axs[subplot_n-1].set(ylabel=None,    xlabel = low_df_n,  title='Low Tourism')\n",
    "\n",
    "    # show plot\n",
    "    plt.show()"
   ]
  },
  {
   "cell_type": "code",
   "execution_count": 8,
   "metadata": {},
   "outputs": [
    {
     "data": {
      "image/png": "[encoded data removed]",
      "text/plain": [
       "<Figure size 1080x360 with 3 Axes>"
      ]
     },
     "metadata": {},
     "output_type": "display_data"
    }
   ],
   "source": [
    "plot_strip_plot('nvictim', add_box_plot=False, show_all_countries=True)"
   ]
  },
  {
   "cell_type": "code",
   "execution_count": 9,
   "metadata": {},
   "outputs": [
    {
     "data": {
      "image/png": "[encoded data removed]",
      "text/plain": [
       "<Figure size 1080x360 with 2 Axes>"
      ]
     },
     "metadata": {},
     "output_type": "display_data"
    }
   ],
   "source": [
    "plot_strip_plot('nvictim', add_box_plot=True, show_all_countries=False)"
   ]
  },
  {
   "cell_type": "markdown",
   "metadata": {},
   "source": [
    "# Interpretation"
   ]
  },
  {
   "cell_type": "code",
   "execution_count": 10,
   "metadata": {},
   "outputs": [],
   "source": [
    "# find slices for all countries, and countries with high and low tourism\n",
    "all_df  = df\n",
    "high_df = df[df['tourism_group']=='high']\n",
    "low_df  = df[df['tourism_group']=='low']"
   ]
  },
  {
   "cell_type": "code",
   "execution_count": 11,
   "metadata": {},
   "outputs": [
    {
     "name": "stdout",
     "output_type": "stream",
     "text": [
      "In all countries, there are 50 incidents with over 100 victims.\n",
      "In high tourism countries, there are 22 incidents with over 100 victims.\n",
      "In low tourism countries, there are 1 incidents with over 100 victims.\n"
     ]
    }
   ],
   "source": [
    "# find number of incidents with >100 victims\n",
    "print(f'In all countries, there are {sum(all_df.nvictim>100)} incidents with over 100 victims.')\n",
    "print(f'In high tourism countries, there are {sum(high_df.nvictim>100)} incidents with over 100 victims.')\n",
    "print(f'In low tourism countries, there are {sum(low_df.nvictim>100)} incidents with over 100 victims.')"
   ]
  },
  {
   "cell_type": "code",
   "execution_count": 12,
   "metadata": {},
   "outputs": [
    {
     "name": "stdout",
     "output_type": "stream",
     "text": [
      "In all countries, there are 110 incidents with over 50 victims.\n",
      "In high tourism countries, there are 41 incidents with over 50 victims.\n",
      "In low tourism countries, there are 1 incidents with over 50 victims.\n"
     ]
    }
   ],
   "source": [
    "# find number of incidents with >50 victims\n",
    "print(f'In all countries, there are {sum(all_df.nvictim>50)} incidents with over 50 victims.')\n",
    "print(f'In high tourism countries, there are {sum(high_df.nvictim>50)} incidents with over 50 victims.')\n",
    "print(f'In low tourism countries, there are {sum(low_df.nvictim>50)} incidents with over 50 victims.')"
   ]
  },
  {
   "cell_type": "code",
   "execution_count": 13,
   "metadata": {},
   "outputs": [
    {
     "name": "stdout",
     "output_type": "stream",
     "text": [
      "In all countries, there are 760 incidents with over 10 victims.\n",
      "In high tourism countries, there are 148 incidents with over 10 victims.\n",
      "In low tourism countries, there are 46 incidents with over 10 victims.\n"
     ]
    }
   ],
   "source": [
    "# find number of incidents with >10 victims\n",
    "print(f'In all countries, there are {sum(all_df.nvictim>10)} incidents with over 10 victims.')\n",
    "print(f'In high tourism countries, there are {sum(high_df.nvictim>10)} incidents with over 10 victims.')\n",
    "print(f'In low tourism countries, there are {sum(low_df.nvictim>10)} incidents with over 10 victims.')"
   ]
  },
  {
   "cell_type": "code",
   "execution_count": 14,
   "metadata": {},
   "outputs": [
    {
     "name": "stdout",
     "output_type": "stream",
     "text": [
      "In all countries, there are 5497 incidents with over 1 victims.\n",
      "In high tourism countries, there are 740 incidents with over 1 victims.\n",
      "In low tourism countries, there are 215 incidents with over 1 victims.\n"
     ]
    }
   ],
   "source": [
    "# find number of incidents with >1 victims\n",
    "print(f'In all countries, there are {sum(all_df.nvictim>1)} incidents with over 1 victims.')\n",
    "print(f'In high tourism countries, there are {sum(high_df.nvictim>1)} incidents with over 1 victims.')\n",
    "print(f'In low tourism countries, there are {sum(low_df.nvictim>1)} incidents with over 1 victims.')"
   ]
  },
  {
   "cell_type": "code",
   "execution_count": 15,
   "metadata": {},
   "outputs": [
    {
     "name": "stdout",
     "output_type": "stream",
     "text": [
      "In all countries, there are 7593 incidents with no victims.\n",
      "In high tourism countries, there are 1016 incidents with no victims.\n",
      "In low tourism countries, there are 199 incidents with no victims.\n"
     ]
    }
   ],
   "source": [
    "# find number of incidents with 0 victims\n",
    "print(f'In all countries, there are {sum(all_df.nvictim==0)} incidents with no victims.')\n",
    "print(f'In high tourism countries, there are {sum(high_df.nvictim==0)} incidents with no victims.')\n",
    "print(f'In low tourism countries, there are {sum(low_df.nvictim==0)} incidents with no victims.')"
   ]
  },
  {
   "cell_type": "markdown",
   "metadata": {},
   "source": [
    "**Key takeaway:** Countries with high tourism have more incidents and more victims per incident than countries with low tourism."
   ]
  }
 ],
 "metadata": {
  "kernelspec": {
   "display_name": "Python 3",
   "language": "python",
   "name": "python3"
  },
  "language_info": {
   "codemirror_mode": {
    "name": "ipython",
    "version": 3
   },
   "file_extension": ".py",
   "mimetype": "text/x-python",
   "name": "python",
   "nbconvert_exporter": "python",
   "pygments_lexer": "ipython3",
   "version": "3.7.7"
  }
 },
 "nbformat": 4,
 "nbformat_minor": 4
}
